{
 "cells": [
  {
   "cell_type": "markdown",
   "metadata": {},
   "source": [
    "# Navigation\n",
    "\n",
    "---\n",
    "\n",
    "In this notebook, we will use the Unity ML-Agents environment for the first project of the [Deep Reinforcement Learning Nanodegree](https://www.udacity.com/course/deep-reinforcement-learning-nanodegree--nd893).\n",
    "\n",
    "### 1. Start the Environment\n",
    "\n",
    "We begin by importing some necessary packages.  If the code cell below returns an error, please revisit the project instructions to double-check that you have installed [Unity ML-Agents](https://github.com/Unity-Technologies/ml-agents/blob/master/docs/Installation.md) and [NumPy](http://www.numpy.org/)."
   ]
  },
  {
   "cell_type": "code",
   "execution_count": 1,
   "metadata": {},
   "outputs": [],
   "source": [
    "from unityagents import UnityEnvironment\n",
    "import numpy as np"
   ]
  },
  {
   "cell_type": "markdown",
   "metadata": {},
   "source": [
    "Next, we will start the environment!  \n",
    "- **Windows** (x86_64): `\"path/to/Banana_Windows_x86_64/Banana.exe\"`"
   ]
  },
  {
   "cell_type": "code",
   "execution_count": 2,
   "metadata": {},
   "outputs": [
    {
     "name": "stderr",
     "output_type": "stream",
     "text": [
      "INFO:unityagents:\n",
      "'Academy' started successfully!\n",
      "Unity Academy name: Academy\n",
      "        Number of Brains: 1\n",
      "        Number of External Brains : 1\n",
      "        Lesson number : 0\n",
      "        Reset Parameters :\n",
      "\t\t\n",
      "Unity brain name: BananaBrain\n",
      "        Number of Visual Observations (per agent): 0\n",
      "        Vector Observation space type: continuous\n",
      "        Vector Observation space size (per agent): 37\n",
      "        Number of stacked Vector Observation: 1\n",
      "        Vector Action space type: discrete\n",
      "        Vector Action space size (per agent): 4\n",
      "        Vector Action descriptions: , , , \n"
     ]
    }
   ],
   "source": [
    "env = UnityEnvironment(file_name=\"Banana_Windows_x86_64/Banana.exe\")"
   ]
  },
  {
   "cell_type": "markdown",
   "metadata": {},
   "source": [
    "Environments contain **_brains_** which are responsible for deciding the actions of their associated agents. Here we check for the first brain available, and set it as the default brain we will be controlling from Python."
   ]
  },
  {
   "cell_type": "code",
   "execution_count": 3,
   "metadata": {},
   "outputs": [],
   "source": [
    "# get the default brain\n",
    "brain_name = env.brain_names[0]\n",
    "brain = env.brains[brain_name]"
   ]
  },
  {
   "cell_type": "markdown",
   "metadata": {},
   "source": [
    "### 2. Examine the State and Action Spaces\n",
    "\n",
    "The simulation contains a single agent that navigates a large environment.  At each time step, it has four actions at its disposal:\n",
    "- `0` - walk forward \n",
    "- `1` - walk backward\n",
    "- `2` - turn left\n",
    "- `3` - turn right\n",
    "\n",
    "The state space has `37` dimensions and contains the agent's velocity, along with ray-based perception of objects around agent's forward direction.  A reward of `+1` is provided for collecting a yellow banana, and a reward of `-1` is provided for collecting a blue banana. \n",
    "\n",
    "Run the code cell below to print some information about the environment."
   ]
  },
  {
   "cell_type": "code",
   "execution_count": 4,
   "metadata": {
    "scrolled": false
   },
   "outputs": [
    {
     "name": "stdout",
     "output_type": "stream",
     "text": [
      "Number of agents: 1\n",
      "Number of actions: 4\n",
      "States look like: [1.         0.         0.         0.         0.84408134 0.\n",
      " 0.         1.         0.         0.0748472  0.         1.\n",
      " 0.         0.         0.25755    1.         0.         0.\n",
      " 0.         0.74177343 0.         1.         0.         0.\n",
      " 0.25854847 0.         0.         1.         0.         0.09355672\n",
      " 0.         1.         0.         0.         0.31969345 0.\n",
      " 0.        ]\n",
      "States have length: 37\n"
     ]
    }
   ],
   "source": [
    "# reset the environment\n",
    "env_info = env.reset(train_mode=True)[brain_name]\n",
    "\n",
    "# number of agents in the environment\n",
    "print('Number of agents:', len(env_info.agents))\n",
    "\n",
    "# number of actions\n",
    "action_size = brain.vector_action_space_size\n",
    "print('Number of actions:', action_size)\n",
    "\n",
    "# examine the state space \n",
    "state = env_info.vector_observations[0]\n",
    "print('States look like:', state)\n",
    "state_size = len(state)\n",
    "print('States have length:', state_size)"
   ]
  },
  {
   "cell_type": "markdown",
   "metadata": {},
   "source": [
    "### 3. algorithm - Deep Q-Learning\n",
    "\n",
    "By using a neural network as a non linear function approximator, the reinforcement learning algorithm estimate the action-value function to converge to the optimal policy. In order to make the algorithm converge, two additional techniques are used - experience replay and fixed Q-targets.\n",
    "\n",
    "At each time step:\n",
    "- the agent select an action following an epsilo-greedy policy \n",
    "- then the agent receive reward and the next state from the environment\n",
    "- the experience (including state, action, reward, next state) is stored in a memory pool\n",
    "- sample a batch of experience from the pool and pass them through the local network and get the outputs \n",
    "- set the target Q value using a seperate target network\n",
    "- perform a grediant descent step on the loss and update local network parameters\n",
    "- soft update the target Q network parameters\n",
    "\n"
   ]
  },
  {
   "cell_type": "markdown",
   "metadata": {},
   "source": [
    "### 4. Start the training in the Environment\n",
    "\n",
    "In the next code cell, We will use the Python API to control the agent and receive feedback from the environment.\n",
    "\n",
    "Once this cell is executed, a window should pop up that allows us to observe the agent, as it moves through the environment.\n",
    "\n",
    "With the proper implementation of the training model, the agent is able to use its experience to gradually choose better actions when interacting with the environment!"
   ]
  },
  {
   "cell_type": "code",
   "execution_count": 5,
   "metadata": {},
   "outputs": [],
   "source": [
    "from collections import deque\n",
    "import matplotlib.pyplot as plt\n",
    "%matplotlib inline"
   ]
  },
  {
   "cell_type": "code",
   "execution_count": 8,
   "metadata": {},
   "outputs": [],
   "source": [
    "from navi_agent import Agent\n",
    "seed = 0\n",
    "agent = Agent(brain.vector_observation_space_size,brain.vector_action_space_size,seed)"
   ]
  },
  {
   "cell_type": "markdown",
   "metadata": {},
   "source": [
    "The neural network architecture:\n",
    "- 1st hidden layer: fully-connected linear layer with 512 rectifier units,\n",
    "- 2nd hidden layer: fully-connected linear layer with 256 rectifier units,\n",
    "- output layer: fully-connected linear layer with 4 output nodes (for 4 valid actions) without nonlinearity.  \n",
    "\n",
    "Hyperparameters:\n",
    "\n",
    "- replay buffer size = 1e5\n",
    "- minibatch size = 64\n",
    "- discount factor = 0.99\n",
    "- TAU = 1e-3 for soft update of target parameters\n",
    "- learning rate = 5e-4 \n",
    "- UPDATE_EVERY = 4    \n"
   ]
  },
  {
   "cell_type": "code",
   "execution_count": 10,
   "metadata": {
    "scrolled": false
   },
   "outputs": [
    {
     "name": "stdout",
     "output_type": "stream",
     "text": [
      "Episode :499\tScore :17.0\tAverage Score :13.88"
     ]
    },
    {
     "data": {
      "image/png": "[encoded data removed]",
      "text/plain": [
       "<Figure size 432x288 with 1 Axes>"
      ]
     },
     "metadata": {
      "needs_background": "light"
     },
     "output_type": "display_data"
    }
   ],
   "source": [
    "import torch\n",
    "EPS = 0.005\n",
    "num_episodes = 500\n",
    "scores = []\n",
    "scores_window = deque(maxlen=100)\n",
    "average_scores = []\n",
    "for i in range(num_episodes):\n",
    "    brain_info = env.reset(train_mode=True)[brain_name]  # reset the environment\n",
    "    state = brain_info.vector_observations[0]            # get the current state\n",
    "    score = 0                                            # initialize the score\n",
    "    while True:\n",
    "        action = agent.act(state, max(EPS,1.0/(i+1)))      # select an action\n",
    "        brain_info = env.step(float(action))[brain_name] # send the action to the environment\n",
    "        next_state = brain_info.vector_observations[0]   # get the next state\n",
    "        reward = brain_info.rewards[0]                   # get the reward\n",
    "        done = brain_info.local_done[0]                  # see if episode has finished\n",
    "        score += reward                                  # update the score\n",
    "        agent.step(state, action, reward, next_state, done)\n",
    "        if done:                                         # exit loop if episode finished\n",
    "            break\n",
    "        state = next_state                               # roll over the state to next time step\n",
    "    scores.append(score)\n",
    "    scores_window.append(score)\n",
    "    if len(scores_window)==100:\n",
    "        average_scores.append(np.mean(scores_window))\n",
    "    else:\n",
    "        average_scores.append(None)\n",
    "    print(\"\\rEpisode :{}\\tScore :{}\\tAverage Score :{}\".format(i, scores[i], average_scores[i]), end=\"\")\n",
    "\n",
    "torch.save(agent.qnetwork_local.state_dict(), 'checkpoint.pth')\n",
    "\n",
    "fig = plt.figure()\n",
    "plt.plot(np.arange(num_episodes), scores, label=\"episode_score\")\n",
    "plt.plot(np.arange(num_episodes), average_scores, label=\"average_score\")\n",
    "plt.legend()\n",
    "plt.xlabel(\"Episode\")\n",
    "plt.ylabel(\"Score\")\n",
    "plt.show()\n"
   ]
  },
  {
   "cell_type": "code",
   "execution_count": 11,
   "metadata": {},
   "outputs": [],
   "source": [
    "env.close()"
   ]
  },
  {
   "cell_type": "markdown",
   "metadata": {},
   "source": [
    "## Future ideas for improving the agent's performance\n",
    "\n",
    "From the results above, we can see that pure Deep Q-learning with experience replay and fixed Q-targets works very well in training the agent in the banana collection environment. To improve the agent's performance and training efficiency even more, there are many extensions available, such as Double DQN, prioritized experience replay, Dualing DQN, etc. In the future, we can implement these extensions to the DQN.\n",
    "Moreover, we can also try to use these algorithm by taking screen pixels as input."
   ]
  }
 ],
 "metadata": {
  "kernelspec": {
   "display_name": "drlnd",
   "language": "python",
   "name": "drlnd"
  },
  "language_info": {
   "codemirror_mode": {
    "name": "ipython",
    "version": 3
   },
   "file_extension": ".py",
   "mimetype": "text/x-python",
   "name": "python",
   "nbconvert_exporter": "python",
   "pygments_lexer": "ipython3",
   "version": "3.6.10"
  }
 },
 "nbformat": 4,
 "nbformat_minor": 2
}
